{
 "cells": [
  {
   "cell_type": "markdown",
   "id": "e6271734",
   "metadata": {},
   "source": [
    "## Capstone Project\n",
    "\n",
    "**Research title:** \n",
    "\n",
    "Application of Machine Learning algorithms to evaluate the changes in energy consumption in the Leinster area and subsequently the impact on consumer behaviour in the commercial sector.  \n"
   ]
  },
  {
   "cell_type": "markdown",
   "id": "43c7b271",
   "metadata": {},
   "source": [
    "## 1. EDA Analysis\n",
    "\n",
    "All the different stages of EDA analysis are going to be covered"
   ]
  },
  {
   "cell_type": "markdown",
   "id": "6addfdac",
   "metadata": {},
   "source": [
    "## **1.1. Data Cleaning**"
   ]
  },
  {
   "cell_type": "code",
   "execution_count": 1,
   "id": "7034799c",
   "metadata": {},
   "outputs": [],
   "source": [
    "#Import the libraries\n",
    "\n",
    "import matplotlib\n",
    "matplotlib.use(\"TkAgg\")\n",
    "import pandas as pd\n",
    "import seaborn as sns\n",
    "import numpy as np\n",
    "from keras.datasets import reuters\n",
    "from keras.preprocessing.text import Tokenizer\n",
    "from keras import models\n",
    "from keras import layers\n",
    "from matplotlib import pyplot as plt \n",
    "%matplotlib inLine\n",
    "sns.set(color_codes=True) \n",
    "\n",
    "import warnings\n",
    "warnings.filterwarnings(\"ignore\")"
   ]
  },
  {
   "cell_type": "code",
   "execution_count": 2,
   "id": "eef28ad0",
   "metadata": {},
   "outputs": [],
   "source": [
    "#load the dataset\n",
    "Non_Residential = pd.read_csv('MEC03.20240304T150328.csv')"
   ]
  },
  {
   "cell_type": "code",
   "execution_count": 3,
   "id": "82f5c82d",
   "metadata": {
    "scrolled": false
   },
   "outputs": [
    {
     "data": {
      "text/html": [
       "<div>\n",
       "<style scoped>\n",
       "    .dataframe tbody tr th:only-of-type {\n",
       "        vertical-align: middle;\n",
       "    }\n",
       "\n",
       "    .dataframe tbody tr th {\n",
       "        vertical-align: top;\n",
       "    }\n",
       "\n",
       "    .dataframe thead th {\n",
       "        text-align: right;\n",
       "    }\n",
       "</style>\n",
       "<table border=\"1\" class=\"dataframe\">\n",
       "  <thead>\n",
       "    <tr style=\"text-align: right;\">\n",
       "      <th></th>\n",
       "      <th>Statistic Label</th>\n",
       "      <th>Year</th>\n",
       "      <th>Counties &amp; Dublin Postal Districts</th>\n",
       "      <th>Sector</th>\n",
       "      <th>UNIT</th>\n",
       "      <th>VALUE</th>\n",
       "    </tr>\n",
       "  </thead>\n",
       "  <tbody>\n",
       "    <tr>\n",
       "      <th>0</th>\n",
       "      <td>Metered Electricity Consumption</td>\n",
       "      <td>2015</td>\n",
       "      <td>Co. Carlow</td>\n",
       "      <td>20 Non-residential</td>\n",
       "      <td>Gigawatt Hours</td>\n",
       "      <td>141</td>\n",
       "    </tr>\n",
       "    <tr>\n",
       "      <th>1</th>\n",
       "      <td>Metered Electricity Consumption</td>\n",
       "      <td>2015</td>\n",
       "      <td>Dublin 1</td>\n",
       "      <td>20 Non-residential</td>\n",
       "      <td>Gigawatt Hours</td>\n",
       "      <td>319</td>\n",
       "    </tr>\n",
       "    <tr>\n",
       "      <th>2</th>\n",
       "      <td>Metered Electricity Consumption</td>\n",
       "      <td>2015</td>\n",
       "      <td>Dublin 2</td>\n",
       "      <td>20 Non-residential</td>\n",
       "      <td>Gigawatt Hours</td>\n",
       "      <td>490</td>\n",
       "    </tr>\n",
       "    <tr>\n",
       "      <th>3</th>\n",
       "      <td>Metered Electricity Consumption</td>\n",
       "      <td>2015</td>\n",
       "      <td>Dublin 3</td>\n",
       "      <td>20 Non-residential</td>\n",
       "      <td>Gigawatt Hours</td>\n",
       "      <td>87</td>\n",
       "    </tr>\n",
       "    <tr>\n",
       "      <th>4</th>\n",
       "      <td>Metered Electricity Consumption</td>\n",
       "      <td>2015</td>\n",
       "      <td>Dublin 4</td>\n",
       "      <td>20 Non-residential</td>\n",
       "      <td>Gigawatt Hours</td>\n",
       "      <td>277</td>\n",
       "    </tr>\n",
       "  </tbody>\n",
       "</table>\n",
       "</div>"
      ],
      "text/plain": [
       "                   Statistic Label  Year Counties & Dublin Postal Districts  \\\n",
       "0  Metered Electricity Consumption  2015                         Co. Carlow   \n",
       "1  Metered Electricity Consumption  2015                           Dublin 1   \n",
       "2  Metered Electricity Consumption  2015                           Dublin 2   \n",
       "3  Metered Electricity Consumption  2015                           Dublin 3   \n",
       "4  Metered Electricity Consumption  2015                           Dublin 4   \n",
       "\n",
       "               Sector            UNIT  VALUE  \n",
       "0  20 Non-residential  Gigawatt Hours    141  \n",
       "1  20 Non-residential  Gigawatt Hours    319  \n",
       "2  20 Non-residential  Gigawatt Hours    490  \n",
       "3  20 Non-residential  Gigawatt Hours     87  \n",
       "4  20 Non-residential  Gigawatt Hours    277  "
      ]
     },
     "execution_count": 3,
     "metadata": {},
     "output_type": "execute_result"
    }
   ],
   "source": [
    "# Visualizing the first 5 rows\n",
    "Non_Residential.head()"
   ]
  },
  {
   "cell_type": "code",
   "execution_count": 4,
   "id": "09d35f37",
   "metadata": {
    "scrolled": true
   },
   "outputs": [
    {
     "data": {
      "text/plain": [
       "(272, 6)"
      ]
     },
     "execution_count": 4,
     "metadata": {},
     "output_type": "execute_result"
    }
   ],
   "source": [
    "# Checking shape of the dataset\n",
    "Non_Residential.shape"
   ]
  },
  {
   "cell_type": "code",
   "execution_count": 5,
   "id": "89d4675d",
   "metadata": {},
   "outputs": [
    {
     "data": {
      "text/html": [
       "<div>\n",
       "<style scoped>\n",
       "    .dataframe tbody tr th:only-of-type {\n",
       "        vertical-align: middle;\n",
       "    }\n",
       "\n",
       "    .dataframe tbody tr th {\n",
       "        vertical-align: top;\n",
       "    }\n",
       "\n",
       "    .dataframe thead th {\n",
       "        text-align: right;\n",
       "    }\n",
       "</style>\n",
       "<table border=\"1\" class=\"dataframe\">\n",
       "  <thead>\n",
       "    <tr style=\"text-align: right;\">\n",
       "      <th></th>\n",
       "      <th>Statistic Label</th>\n",
       "      <th>Counties &amp; Dublin Postal Districts</th>\n",
       "      <th>Sector</th>\n",
       "      <th>UNIT</th>\n",
       "    </tr>\n",
       "  </thead>\n",
       "  <tbody>\n",
       "    <tr>\n",
       "      <th>count</th>\n",
       "      <td>272</td>\n",
       "      <td>272</td>\n",
       "      <td>272</td>\n",
       "      <td>272</td>\n",
       "    </tr>\n",
       "    <tr>\n",
       "      <th>unique</th>\n",
       "      <td>1</td>\n",
       "      <td>34</td>\n",
       "      <td>1</td>\n",
       "      <td>1</td>\n",
       "    </tr>\n",
       "    <tr>\n",
       "      <th>top</th>\n",
       "      <td>Metered Electricity Consumption</td>\n",
       "      <td>Co. Carlow</td>\n",
       "      <td>20 Non-residential</td>\n",
       "      <td>Gigawatt Hours</td>\n",
       "    </tr>\n",
       "    <tr>\n",
       "      <th>freq</th>\n",
       "      <td>272</td>\n",
       "      <td>8</td>\n",
       "      <td>272</td>\n",
       "      <td>272</td>\n",
       "    </tr>\n",
       "  </tbody>\n",
       "</table>\n",
       "</div>"
      ],
      "text/plain": [
       "                        Statistic Label Counties & Dublin Postal Districts  \\\n",
       "count                               272                                272   \n",
       "unique                                1                                 34   \n",
       "top     Metered Electricity Consumption                         Co. Carlow   \n",
       "freq                                272                                  8   \n",
       "\n",
       "                    Sector            UNIT  \n",
       "count                  272             272  \n",
       "unique                   1               1  \n",
       "top     20 Non-residential  Gigawatt Hours  \n",
       "freq                   272             272  "
      ]
     },
     "execution_count": 5,
     "metadata": {},
     "output_type": "execute_result"
    }
   ],
   "source": [
    "#Categorical values and the number of times those values appear in the dataset. \n",
    "#This shows us the number of categories for each cathegorical value\n",
    "Non_Residential.describe(include=object)\n",
    "#construction.describe(include=object)"
   ]
  },
  {
   "cell_type": "code",
   "execution_count": 6,
   "id": "d2825ce5",
   "metadata": {},
   "outputs": [],
   "source": [
    "# Column \"Statistic Label\" and \"Unit\" will be dropped as it only contains the word \"Metered Electricity Consumption, Sector and \n",
    "# Gigawatt hours in each row and it will not produce any relevant information for my analysis.\n",
    "\n",
    "#Dropping \"Statistic Label\" and \"unit\" features. \n",
    "Non_Residential = Non_Residential.drop(['Statistic Label', 'Sector', 'UNIT'], axis=1)\n",
    "#Renaming the columns value and date.\n",
    "Non_Residential = Non_Residential.rename(columns={'VALUE': 'Non Residential Value'})\n",
    "#exports = exports.rename(columns={\"Value\": \"exports\", \"Date\": \"year\"})"
   ]
  },
  {
   "cell_type": "code",
   "execution_count": 7,
   "id": "4c65b3d0",
   "metadata": {},
   "outputs": [
    {
     "data": {
      "text/html": [
       "<div>\n",
       "<style scoped>\n",
       "    .dataframe tbody tr th:only-of-type {\n",
       "        vertical-align: middle;\n",
       "    }\n",
       "\n",
       "    .dataframe tbody tr th {\n",
       "        vertical-align: top;\n",
       "    }\n",
       "\n",
       "    .dataframe thead th {\n",
       "        text-align: right;\n",
       "    }\n",
       "</style>\n",
       "<table border=\"1\" class=\"dataframe\">\n",
       "  <thead>\n",
       "    <tr style=\"text-align: right;\">\n",
       "      <th></th>\n",
       "      <th>Year</th>\n",
       "      <th>Counties &amp; Dublin Postal Districts</th>\n",
       "      <th>Non Residential Value</th>\n",
       "    </tr>\n",
       "  </thead>\n",
       "  <tbody>\n",
       "    <tr>\n",
       "      <th>0</th>\n",
       "      <td>2015</td>\n",
       "      <td>Co. Carlow</td>\n",
       "      <td>141</td>\n",
       "    </tr>\n",
       "    <tr>\n",
       "      <th>1</th>\n",
       "      <td>2015</td>\n",
       "      <td>Dublin 1</td>\n",
       "      <td>319</td>\n",
       "    </tr>\n",
       "    <tr>\n",
       "      <th>2</th>\n",
       "      <td>2015</td>\n",
       "      <td>Dublin 2</td>\n",
       "      <td>490</td>\n",
       "    </tr>\n",
       "    <tr>\n",
       "      <th>3</th>\n",
       "      <td>2015</td>\n",
       "      <td>Dublin 3</td>\n",
       "      <td>87</td>\n",
       "    </tr>\n",
       "    <tr>\n",
       "      <th>4</th>\n",
       "      <td>2015</td>\n",
       "      <td>Dublin 4</td>\n",
       "      <td>277</td>\n",
       "    </tr>\n",
       "  </tbody>\n",
       "</table>\n",
       "</div>"
      ],
      "text/plain": [
       "   Year Counties & Dublin Postal Districts  Non Residential Value\n",
       "0  2015                         Co. Carlow                    141\n",
       "1  2015                           Dublin 1                    319\n",
       "2  2015                           Dublin 2                    490\n",
       "3  2015                           Dublin 3                     87\n",
       "4  2015                           Dublin 4                    277"
      ]
     },
     "execution_count": 7,
     "metadata": {},
     "output_type": "execute_result"
    }
   ],
   "source": [
    "# Checking the dataset after dropping those features\n",
    "Non_Residential.head()"
   ]
  },
  {
   "cell_type": "code",
   "execution_count": 8,
   "id": "742845e5",
   "metadata": {
    "scrolled": true
   },
   "outputs": [
    {
     "name": "stdout",
     "output_type": "stream",
     "text": [
      "<class 'pandas.core.frame.DataFrame'>\n",
      "RangeIndex: 272 entries, 0 to 271\n",
      "Data columns (total 3 columns):\n",
      " #   Column                              Non-Null Count  Dtype \n",
      "---  ------                              --------------  ----- \n",
      " 0   Year                                272 non-null    int64 \n",
      " 1   Counties & Dublin Postal Districts  272 non-null    object\n",
      " 2   Non Residential Value               272 non-null    int64 \n",
      "dtypes: int64(2), object(1)\n",
      "memory usage: 6.5+ KB\n"
     ]
    }
   ],
   "source": [
    "# Checking data types\n",
    "Non_Residential.info()"
   ]
  },
  {
   "cell_type": "code",
   "execution_count": 9,
   "id": "994a8c7b",
   "metadata": {},
   "outputs": [
    {
     "data": {
      "text/plain": [
       "Year                                  0\n",
       "Counties & Dublin Postal Districts    0\n",
       "Non Residential Value                 0\n",
       "dtype: int64"
      ]
     },
     "execution_count": 9,
     "metadata": {},
     "output_type": "execute_result"
    }
   ],
   "source": [
    "# Checking for null values\n",
    "Non_Residential.isnull().sum()"
   ]
  },
  {
   "cell_type": "code",
   "execution_count": 10,
   "id": "7704b791",
   "metadata": {},
   "outputs": [],
   "source": [
    "# Loading second dataset \"Residential consumers\"\n",
    "Residential = pd.read_csv('MEC03.20240309T180352.csv')"
   ]
  },
  {
   "cell_type": "code",
   "execution_count": 11,
   "id": "7bf6a2d3",
   "metadata": {
    "scrolled": false
   },
   "outputs": [
    {
     "data": {
      "text/html": [
       "<div>\n",
       "<style scoped>\n",
       "    .dataframe tbody tr th:only-of-type {\n",
       "        vertical-align: middle;\n",
       "    }\n",
       "\n",
       "    .dataframe tbody tr th {\n",
       "        vertical-align: top;\n",
       "    }\n",
       "\n",
       "    .dataframe thead th {\n",
       "        text-align: right;\n",
       "    }\n",
       "</style>\n",
       "<table border=\"1\" class=\"dataframe\">\n",
       "  <thead>\n",
       "    <tr style=\"text-align: right;\">\n",
       "      <th></th>\n",
       "      <th>Statistic Label</th>\n",
       "      <th>Year</th>\n",
       "      <th>Counties &amp; Dublin Postal Districts</th>\n",
       "      <th>Sector</th>\n",
       "      <th>UNIT</th>\n",
       "      <th>VALUE</th>\n",
       "    </tr>\n",
       "  </thead>\n",
       "  <tbody>\n",
       "    <tr>\n",
       "      <th>0</th>\n",
       "      <td>Metered Electricity Consumption</td>\n",
       "      <td>2015</td>\n",
       "      <td>Co. Carlow</td>\n",
       "      <td>10 Residential</td>\n",
       "      <td>Gigawatt Hours</td>\n",
       "      <td>106</td>\n",
       "    </tr>\n",
       "    <tr>\n",
       "      <th>1</th>\n",
       "      <td>Metered Electricity Consumption</td>\n",
       "      <td>2015</td>\n",
       "      <td>Dublin 1</td>\n",
       "      <td>10 Residential</td>\n",
       "      <td>Gigawatt Hours</td>\n",
       "      <td>68</td>\n",
       "    </tr>\n",
       "    <tr>\n",
       "      <th>2</th>\n",
       "      <td>Metered Electricity Consumption</td>\n",
       "      <td>2015</td>\n",
       "      <td>Dublin 2</td>\n",
       "      <td>10 Residential</td>\n",
       "      <td>Gigawatt Hours</td>\n",
       "      <td>34</td>\n",
       "    </tr>\n",
       "    <tr>\n",
       "      <th>3</th>\n",
       "      <td>Metered Electricity Consumption</td>\n",
       "      <td>2015</td>\n",
       "      <td>Dublin 3</td>\n",
       "      <td>10 Residential</td>\n",
       "      <td>Gigawatt Hours</td>\n",
       "      <td>73</td>\n",
       "    </tr>\n",
       "    <tr>\n",
       "      <th>4</th>\n",
       "      <td>Metered Electricity Consumption</td>\n",
       "      <td>2015</td>\n",
       "      <td>Dublin 4</td>\n",
       "      <td>10 Residential</td>\n",
       "      <td>Gigawatt Hours</td>\n",
       "      <td>83</td>\n",
       "    </tr>\n",
       "  </tbody>\n",
       "</table>\n",
       "</div>"
      ],
      "text/plain": [
       "                   Statistic Label  Year Counties & Dublin Postal Districts  \\\n",
       "0  Metered Electricity Consumption  2015                         Co. Carlow   \n",
       "1  Metered Electricity Consumption  2015                           Dublin 1   \n",
       "2  Metered Electricity Consumption  2015                           Dublin 2   \n",
       "3  Metered Electricity Consumption  2015                           Dublin 3   \n",
       "4  Metered Electricity Consumption  2015                           Dublin 4   \n",
       "\n",
       "           Sector            UNIT  VALUE  \n",
       "0  10 Residential  Gigawatt Hours    106  \n",
       "1  10 Residential  Gigawatt Hours     68  \n",
       "2  10 Residential  Gigawatt Hours     34  \n",
       "3  10 Residential  Gigawatt Hours     73  \n",
       "4  10 Residential  Gigawatt Hours     83  "
      ]
     },
     "execution_count": 11,
     "metadata": {},
     "output_type": "execute_result"
    }
   ],
   "source": [
    "# Checking first 5 rows\n",
    "Residential.head()"
   ]
  },
  {
   "cell_type": "code",
   "execution_count": 12,
   "id": "18140001",
   "metadata": {},
   "outputs": [],
   "source": [
    "# Column \"Statistic Label\" and \"Unit\" will be dropped as it only contains the word \"Metered Electricity Consumption, Sector and \n",
    "# Gigawatt hours in each row and it will not produce any relevant information for my analysis.\n",
    "\n",
    "#Dropping \"Statistic Label\" and \"unit\" features. \n",
    "Residential = Residential.drop(['Statistic Label', 'Sector', 'UNIT'], axis=1)\n",
    "#Renaming the columns value and date.\n",
    "Residential = Residential.rename(columns={'VALUE': 'Residential Value'})"
   ]
  },
  {
   "cell_type": "code",
   "execution_count": 13,
   "id": "5d00dd0b",
   "metadata": {},
   "outputs": [
    {
     "data": {
      "text/html": [
       "<div>\n",
       "<style scoped>\n",
       "    .dataframe tbody tr th:only-of-type {\n",
       "        vertical-align: middle;\n",
       "    }\n",
       "\n",
       "    .dataframe tbody tr th {\n",
       "        vertical-align: top;\n",
       "    }\n",
       "\n",
       "    .dataframe thead th {\n",
       "        text-align: right;\n",
       "    }\n",
       "</style>\n",
       "<table border=\"1\" class=\"dataframe\">\n",
       "  <thead>\n",
       "    <tr style=\"text-align: right;\">\n",
       "      <th></th>\n",
       "      <th>Year</th>\n",
       "      <th>Counties &amp; Dublin Postal Districts</th>\n",
       "      <th>Residential Value</th>\n",
       "    </tr>\n",
       "  </thead>\n",
       "  <tbody>\n",
       "    <tr>\n",
       "      <th>0</th>\n",
       "      <td>2015</td>\n",
       "      <td>Co. Carlow</td>\n",
       "      <td>106</td>\n",
       "    </tr>\n",
       "    <tr>\n",
       "      <th>1</th>\n",
       "      <td>2015</td>\n",
       "      <td>Dublin 1</td>\n",
       "      <td>68</td>\n",
       "    </tr>\n",
       "    <tr>\n",
       "      <th>2</th>\n",
       "      <td>2015</td>\n",
       "      <td>Dublin 2</td>\n",
       "      <td>34</td>\n",
       "    </tr>\n",
       "    <tr>\n",
       "      <th>3</th>\n",
       "      <td>2015</td>\n",
       "      <td>Dublin 3</td>\n",
       "      <td>73</td>\n",
       "    </tr>\n",
       "    <tr>\n",
       "      <th>4</th>\n",
       "      <td>2015</td>\n",
       "      <td>Dublin 4</td>\n",
       "      <td>83</td>\n",
       "    </tr>\n",
       "  </tbody>\n",
       "</table>\n",
       "</div>"
      ],
      "text/plain": [
       "   Year Counties & Dublin Postal Districts  Residential Value\n",
       "0  2015                         Co. Carlow                106\n",
       "1  2015                           Dublin 1                 68\n",
       "2  2015                           Dublin 2                 34\n",
       "3  2015                           Dublin 3                 73\n",
       "4  2015                           Dublin 4                 83"
      ]
     },
     "execution_count": 13,
     "metadata": {},
     "output_type": "execute_result"
    }
   ],
   "source": [
    "Residential.head()"
   ]
  },
  {
   "cell_type": "code",
   "execution_count": 14,
   "id": "20191a23",
   "metadata": {},
   "outputs": [],
   "source": [
    "#Creating new dataframe \"const\" to merge the first two datasets: \"exports and imports\"\n",
    "#through outer merge.\n",
    "Meters = pd.merge(Non_Residential, Residential, how=\"outer\")"
   ]
  },
  {
   "cell_type": "code",
   "execution_count": 15,
   "id": "b9d1f420",
   "metadata": {},
   "outputs": [
    {
     "data": {
      "text/html": [
       "<div>\n",
       "<style scoped>\n",
       "    .dataframe tbody tr th:only-of-type {\n",
       "        vertical-align: middle;\n",
       "    }\n",
       "\n",
       "    .dataframe tbody tr th {\n",
       "        vertical-align: top;\n",
       "    }\n",
       "\n",
       "    .dataframe thead th {\n",
       "        text-align: right;\n",
       "    }\n",
       "</style>\n",
       "<table border=\"1\" class=\"dataframe\">\n",
       "  <thead>\n",
       "    <tr style=\"text-align: right;\">\n",
       "      <th></th>\n",
       "      <th>Year</th>\n",
       "      <th>Counties &amp; Dublin Postal Districts</th>\n",
       "      <th>Non Residential Value</th>\n",
       "      <th>Residential Value</th>\n",
       "    </tr>\n",
       "  </thead>\n",
       "  <tbody>\n",
       "    <tr>\n",
       "      <th>0</th>\n",
       "      <td>2015</td>\n",
       "      <td>Co. Carlow</td>\n",
       "      <td>141</td>\n",
       "      <td>106</td>\n",
       "    </tr>\n",
       "    <tr>\n",
       "      <th>1</th>\n",
       "      <td>2015</td>\n",
       "      <td>Dublin 1</td>\n",
       "      <td>319</td>\n",
       "      <td>68</td>\n",
       "    </tr>\n",
       "    <tr>\n",
       "      <th>2</th>\n",
       "      <td>2015</td>\n",
       "      <td>Dublin 2</td>\n",
       "      <td>490</td>\n",
       "      <td>34</td>\n",
       "    </tr>\n",
       "    <tr>\n",
       "      <th>3</th>\n",
       "      <td>2015</td>\n",
       "      <td>Dublin 3</td>\n",
       "      <td>87</td>\n",
       "      <td>73</td>\n",
       "    </tr>\n",
       "    <tr>\n",
       "      <th>4</th>\n",
       "      <td>2015</td>\n",
       "      <td>Dublin 4</td>\n",
       "      <td>277</td>\n",
       "      <td>83</td>\n",
       "    </tr>\n",
       "  </tbody>\n",
       "</table>\n",
       "</div>"
      ],
      "text/plain": [
       "   Year Counties & Dublin Postal Districts  Non Residential Value  \\\n",
       "0  2015                         Co. Carlow                    141   \n",
       "1  2015                           Dublin 1                    319   \n",
       "2  2015                           Dublin 2                    490   \n",
       "3  2015                           Dublin 3                     87   \n",
       "4  2015                           Dublin 4                    277   \n",
       "\n",
       "   Residential Value  \n",
       "0                106  \n",
       "1                 68  \n",
       "2                 34  \n",
       "3                 73  \n",
       "4                 83  "
      ]
     },
     "execution_count": 15,
     "metadata": {},
     "output_type": "execute_result"
    }
   ],
   "source": [
    "Meters.head()"
   ]
  },
  {
   "cell_type": "code",
   "execution_count": 16,
   "id": "7caea091",
   "metadata": {
    "scrolled": true
   },
   "outputs": [
    {
     "data": {
      "text/html": [
       "<div>\n",
       "<style scoped>\n",
       "    .dataframe tbody tr th:only-of-type {\n",
       "        vertical-align: middle;\n",
       "    }\n",
       "\n",
       "    .dataframe tbody tr th {\n",
       "        vertical-align: top;\n",
       "    }\n",
       "\n",
       "    .dataframe thead th {\n",
       "        text-align: right;\n",
       "    }\n",
       "</style>\n",
       "<table border=\"1\" class=\"dataframe\">\n",
       "  <thead>\n",
       "    <tr style=\"text-align: right;\">\n",
       "      <th></th>\n",
       "      <th>Year</th>\n",
       "      <th>Non Residential Value</th>\n",
       "      <th>Residential Value</th>\n",
       "    </tr>\n",
       "  </thead>\n",
       "  <tbody>\n",
       "    <tr>\n",
       "      <th>count</th>\n",
       "      <td>272.000000</td>\n",
       "      <td>272.000000</td>\n",
       "      <td>272.000000</td>\n",
       "    </tr>\n",
       "    <tr>\n",
       "      <th>mean</th>\n",
       "      <td>2018.500000</td>\n",
       "      <td>208.573529</td>\n",
       "      <td>134.628676</td>\n",
       "    </tr>\n",
       "    <tr>\n",
       "      <th>std</th>\n",
       "      <td>2.295511</td>\n",
       "      <td>161.246305</td>\n",
       "      <td>116.924764</td>\n",
       "    </tr>\n",
       "    <tr>\n",
       "      <th>min</th>\n",
       "      <td>2015.000000</td>\n",
       "      <td>12.000000</td>\n",
       "      <td>19.000000</td>\n",
       "    </tr>\n",
       "    <tr>\n",
       "      <th>25%</th>\n",
       "      <td>2016.750000</td>\n",
       "      <td>87.750000</td>\n",
       "      <td>69.000000</td>\n",
       "    </tr>\n",
       "    <tr>\n",
       "      <th>50%</th>\n",
       "      <td>2018.500000</td>\n",
       "      <td>161.500000</td>\n",
       "      <td>88.000000</td>\n",
       "    </tr>\n",
       "    <tr>\n",
       "      <th>75%</th>\n",
       "      <td>2020.250000</td>\n",
       "      <td>297.250000</td>\n",
       "      <td>160.750000</td>\n",
       "    </tr>\n",
       "    <tr>\n",
       "      <th>max</th>\n",
       "      <td>2022.000000</td>\n",
       "      <td>756.000000</td>\n",
       "      <td>611.000000</td>\n",
       "    </tr>\n",
       "  </tbody>\n",
       "</table>\n",
       "</div>"
      ],
      "text/plain": [
       "              Year  Non Residential Value  Residential Value\n",
       "count   272.000000             272.000000         272.000000\n",
       "mean   2018.500000             208.573529         134.628676\n",
       "std       2.295511             161.246305         116.924764\n",
       "min    2015.000000              12.000000          19.000000\n",
       "25%    2016.750000              87.750000          69.000000\n",
       "50%    2018.500000             161.500000          88.000000\n",
       "75%    2020.250000             297.250000         160.750000\n",
       "max    2022.000000             756.000000         611.000000"
      ]
     },
     "execution_count": 16,
     "metadata": {},
     "output_type": "execute_result"
    }
   ],
   "source": [
    "# Find some of the summary statistics of the database for the numerical features.\n",
    "Meters.describe()"
   ]
  },
  {
   "cell_type": "code",
   "execution_count": 17,
   "id": "302590d6",
   "metadata": {
    "scrolled": true
   },
   "outputs": [
    {
     "data": {
      "text/html": [
       "<div>\n",
       "<style scoped>\n",
       "    .dataframe tbody tr th:only-of-type {\n",
       "        vertical-align: middle;\n",
       "    }\n",
       "\n",
       "    .dataframe tbody tr th {\n",
       "        vertical-align: top;\n",
       "    }\n",
       "\n",
       "    .dataframe thead th {\n",
       "        text-align: right;\n",
       "    }\n",
       "</style>\n",
       "<table border=\"1\" class=\"dataframe\">\n",
       "  <thead>\n",
       "    <tr style=\"text-align: right;\">\n",
       "      <th></th>\n",
       "      <th>Counties &amp; Dublin Postal Districts</th>\n",
       "    </tr>\n",
       "  </thead>\n",
       "  <tbody>\n",
       "    <tr>\n",
       "      <th>count</th>\n",
       "      <td>272</td>\n",
       "    </tr>\n",
       "    <tr>\n",
       "      <th>unique</th>\n",
       "      <td>34</td>\n",
       "    </tr>\n",
       "    <tr>\n",
       "      <th>top</th>\n",
       "      <td>Co. Carlow</td>\n",
       "    </tr>\n",
       "    <tr>\n",
       "      <th>freq</th>\n",
       "      <td>8</td>\n",
       "    </tr>\n",
       "  </tbody>\n",
       "</table>\n",
       "</div>"
      ],
      "text/plain": [
       "       Counties & Dublin Postal Districts\n",
       "count                                 272\n",
       "unique                                 34\n",
       "top                            Co. Carlow\n",
       "freq                                    8"
      ]
     },
     "execution_count": 17,
     "metadata": {},
     "output_type": "execute_result"
    }
   ],
   "source": [
    "#Categorical values and the number of times those values appear in the dataset. \n",
    "#This shows us the number of categories for each cathegorical value\n",
    "Meters.describe(include=object)\n",
    "#construction.describe(include=object)"
   ]
  },
  {
   "cell_type": "code",
   "execution_count": 18,
   "id": "54671f52",
   "metadata": {
    "scrolled": true
   },
   "outputs": [
    {
     "name": "stdout",
     "output_type": "stream",
     "text": [
      "<class 'pandas.core.frame.DataFrame'>\n",
      "Int64Index: 272 entries, 0 to 271\n",
      "Data columns (total 4 columns):\n",
      " #   Column                              Non-Null Count  Dtype \n",
      "---  ------                              --------------  ----- \n",
      " 0   Year                                272 non-null    int64 \n",
      " 1   Counties & Dublin Postal Districts  272 non-null    object\n",
      " 2   Non Residential Value               272 non-null    int64 \n",
      " 3   Residential Value                   272 non-null    int64 \n",
      "dtypes: int64(3), object(1)\n",
      "memory usage: 10.6+ KB\n"
     ]
    }
   ],
   "source": [
    "# Checking data types\n",
    "Meters.info()"
   ]
  },
  {
   "cell_type": "code",
   "execution_count": 19,
   "id": "07d92014",
   "metadata": {},
   "outputs": [
    {
     "data": {
      "text/plain": [
       "Year                                  0\n",
       "Counties & Dublin Postal Districts    0\n",
       "Non Residential Value                 0\n",
       "Residential Value                     0\n",
       "dtype: int64"
      ]
     },
     "execution_count": 19,
     "metadata": {},
     "output_type": "execute_result"
    }
   ],
   "source": [
    "# Checking for null values\n",
    "Meters.isnull().sum()"
   ]
  },
  {
   "cell_type": "code",
   "execution_count": 22,
   "id": "c15144bb",
   "metadata": {},
   "outputs": [
    {
     "name": "stdout",
     "output_type": "stream",
     "text": [
      "number of duplicate rows:  (0, 4)\n"
     ]
    }
   ],
   "source": [
    "#checking the duplicates in the dataset\n",
    "duplicate_rows=Meters[Meters.duplicated()]\n",
    "print('number of duplicate rows: ', duplicate_rows.shape)"
   ]
  },
  {
   "cell_type": "markdown",
   "id": "23a3da04",
   "metadata": {},
   "source": [
    "## 1.2. Correlation of the variables"
   ]
  },
  {
   "cell_type": "code",
   "execution_count": 23,
   "id": "6cfa6ae9",
   "metadata": {
    "scrolled": true
   },
   "outputs": [
    {
     "name": "stdout",
     "output_type": "stream",
     "text": [
      "                           Year  Non Residential Value  Residential Value\n",
      "Year                   1.000000              -0.000379           0.024809\n",
      "Non Residential Value -0.000379               1.000000           0.783305\n",
      "Residential Value      0.024809               0.783305           1.000000\n"
     ]
    }
   ],
   "source": [
    "# Checking the correlation between variables\n",
    "correlation = Meters.corr()\n",
    "print(correlation)"
   ]
  },
  {
   "cell_type": "code",
   "execution_count": 24,
   "id": "85cfb7da",
   "metadata": {},
   "outputs": [
    {
     "data": {
      "image/png": "[encoded data removed]",
      "text/plain": [
       "<Figure size 1500x500 with 2 Axes>"
      ]
     },
     "metadata": {},
     "output_type": "display_data"
    }
   ],
   "source": [
    "# Finding the relations between the variables through a heat map\n",
    "plt.figure(figsize=(15,5)) \n",
    "c= Meters.corr() \n",
    "sns.heatmap(c,cmap=\"BrBG\",annot=True) \n",
    "plt.title(\"Correlation between variables for Meters\");\n",
    "#there is a strong correlation of 0.78 between Non Residential and Residential values. There is a week correlation \n",
    "# of 0.025 between Year and and Residential Value variable. \n",
    "#There is a negative correlation of -0.000038 between Non Residential and year features."
   ]
  },
  {
   "cell_type": "code",
   "execution_count": 26,
   "id": "6952ded3",
   "metadata": {
    "scrolled": false
   },
   "outputs": [
    {
     "data": {
      "image/png": "[encoded data removed]",
      "text/plain": [
       "<Figure size 800x400 with 1 Axes>"
      ]
     },
     "metadata": {},
     "output_type": "display_data"
    }
   ],
   "source": [
    "#Ploting a scatter plot to stablish if there is any correlation between two variables\n",
    "\n",
    "fig, ax = plt.subplots(figsize=(8,4)) \n",
    "ax.scatter(Meters['Residential Value'], Meters['Non Residential Value']) \n",
    "ax.set_xlabel('Residential Value') \n",
    "ax.set_ylabel('Non Residential Value') \n",
    "plt.title(\"Correlation between Residential and Non Residential Electricity Consumption Leinster Area\");\n",
    "plt.show() "
   ]
  },
  {
   "cell_type": "code",
   "execution_count": 27,
   "id": "c11fa29c",
   "metadata": {
    "scrolled": false
   },
   "outputs": [
    {
     "data": {
      "image/png": "[encoded data removed]",
      "text/plain": [
       "<Figure size 500x500 with 1 Axes>"
      ]
     },
     "metadata": {},
     "output_type": "display_data"
    }
   ],
   "source": [
    "# Visualizing the Non Residential variable\n",
    "# It can be seen that data is positive skewed in this feature.\n",
    "sns.set(rc={\"figure.figsize\":(4, 1)})\n",
    "sns.displot(data=Meters, x=\"Non Residential Value\", kde=True);\n",
    "plt.title(\"Non Residential variable data shape\");"
   ]
  },
  {
   "cell_type": "markdown",
   "id": "72b11668",
   "metadata": {},
   "source": [
    "## 1.3. Outliers Detection."
   ]
  },
  {
   "cell_type": "code",
   "execution_count": 28,
   "id": "003d59fa",
   "metadata": {},
   "outputs": [
    {
     "data": {
      "image/png": "[encoded data removed]",
      "text/plain": [
       "<Figure size 400x300 with 1 Axes>"
      ]
     },
     "metadata": {},
     "output_type": "display_data"
    }
   ],
   "source": [
    "# Detecting Outliers\n",
    "# As it can be seen below, there are ouliers in three of the numeric variables of my dataset.\n",
    "sns.set(rc={\"figure.figsize\":(4, 3)})\n",
    "sns.boxplot(x=Meters['Non Residential Value']); \n",
    "plt.title(\"Non Residential Value outliers\");"
   ]
  },
  {
   "cell_type": "code",
   "execution_count": 29,
   "id": "65eecad0",
   "metadata": {},
   "outputs": [
    {
     "data": {
      "image/png": "[encoded data removed]",
      "text/plain": [
       "<Figure size 400x300 with 1 Axes>"
      ]
     },
     "metadata": {},
     "output_type": "display_data"
    }
   ],
   "source": [
    "# Detecting Outliers on Residential variable\n",
    "# As it can be seen below, there are ouliers in three of the numeric variables of my dataset.\n",
    "sns.set(rc={\"figure.figsize\":(4, 3)})\n",
    "sns.boxplot(x=Meters['Residential Value']); \n",
    "plt.title(\"Residential Value outliers\");"
   ]
  }
 ],
 "metadata": {
  "kernelspec": {
   "display_name": "Python 3 (ipykernel)",
   "language": "python",
   "name": "python3"
  },
  "language_info": {
   "codemirror_mode": {
    "name": "ipython",
    "version": 3
   },
   "file_extension": ".py",
   "mimetype": "text/x-python",
   "name": "python",
   "nbconvert_exporter": "python",
   "pygments_lexer": "ipython3",
   "version": "3.11.4"
  }
 },
 "nbformat": 4,
 "nbformat_minor": 5
}
