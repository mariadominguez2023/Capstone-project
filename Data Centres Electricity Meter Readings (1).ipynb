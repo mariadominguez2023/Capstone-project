{
 "cells": [
  {
   "cell_type": "markdown",
   "id": "e6271734",
   "metadata": {},
   "source": [
    "## Capstone Project\n",
    "\n",
    "**Research title:** \n",
    "\n",
    "Application of Machine Learning algorithms to evaluate the changes in energy consumption for Data Centres and subsequently the impact on consumer behaviour in the commercial sector.  \n"
   ]
  },
  {
   "cell_type": "markdown",
   "id": "43c7b271",
   "metadata": {},
   "source": [
    "## 1. EDA Analysis\n",
    "\n",
    "All the different stages of EDA analysis are going to be covered"
   ]
  },
  {
   "cell_type": "markdown",
   "id": "6addfdac",
   "metadata": {},
   "source": [
    "## **1.1. Data Cleaning**"
   ]
  },
  {
   "cell_type": "code",
   "execution_count": 1,
   "id": "7034799c",
   "metadata": {},
   "outputs": [],
   "source": [
    "#Import the libraries\n",
    "\n",
    "import matplotlib\n",
    "matplotlib.use(\"TkAgg\")\n",
    "import pandas as pd\n",
    "import seaborn as sns\n",
    "import numpy as np\n",
    "from keras.datasets import reuters\n",
    "from keras.preprocessing.text import Tokenizer\n",
    "from keras import models\n",
    "from keras import layers\n",
    "from matplotlib import pyplot as plt \n",
    "%matplotlib inLine\n",
    "sns.set(color_codes=True) \n",
    "\n",
    "import warnings\n",
    "warnings.filterwarnings(\"ignore\")"
   ]
  },
  {
   "cell_type": "code",
   "execution_count": 2,
   "id": "eef28ad0",
   "metadata": {},
   "outputs": [],
   "source": [
    "#load the dataset\n",
    "Centers = pd.read_csv('MEC02.20240304T160327.csv')"
   ]
  },
  {
   "cell_type": "code",
   "execution_count": 3,
   "id": "82f5c82d",
   "metadata": {
    "scrolled": false
   },
   "outputs": [
    {
     "data": {
      "text/html": [
       "<div>\n",
       "<style scoped>\n",
       "    .dataframe tbody tr th:only-of-type {\n",
       "        vertical-align: middle;\n",
       "    }\n",
       "\n",
       "    .dataframe tbody tr th {\n",
       "        vertical-align: top;\n",
       "    }\n",
       "\n",
       "    .dataframe thead th {\n",
       "        text-align: right;\n",
       "    }\n",
       "</style>\n",
       "<table border=\"1\" class=\"dataframe\">\n",
       "  <thead>\n",
       "    <tr style=\"text-align: right;\">\n",
       "      <th></th>\n",
       "      <th>Statistic Label</th>\n",
       "      <th>Quarter</th>\n",
       "      <th>Electricity Consumption</th>\n",
       "      <th>UNIT</th>\n",
       "      <th>VALUE</th>\n",
       "    </tr>\n",
       "  </thead>\n",
       "  <tbody>\n",
       "    <tr>\n",
       "      <th>0</th>\n",
       "      <td>Gigawatt hours</td>\n",
       "      <td>2015Q1</td>\n",
       "      <td>Data centres</td>\n",
       "      <td>GWh</td>\n",
       "      <td>290</td>\n",
       "    </tr>\n",
       "    <tr>\n",
       "      <th>1</th>\n",
       "      <td>Gigawatt hours</td>\n",
       "      <td>2015Q2</td>\n",
       "      <td>Data centres</td>\n",
       "      <td>GWh</td>\n",
       "      <td>302</td>\n",
       "    </tr>\n",
       "    <tr>\n",
       "      <th>2</th>\n",
       "      <td>Gigawatt hours</td>\n",
       "      <td>2015Q3</td>\n",
       "      <td>Data centres</td>\n",
       "      <td>GWh</td>\n",
       "      <td>315</td>\n",
       "    </tr>\n",
       "    <tr>\n",
       "      <th>3</th>\n",
       "      <td>Gigawatt hours</td>\n",
       "      <td>2015Q4</td>\n",
       "      <td>Data centres</td>\n",
       "      <td>GWh</td>\n",
       "      <td>328</td>\n",
       "    </tr>\n",
       "    <tr>\n",
       "      <th>4</th>\n",
       "      <td>Gigawatt hours</td>\n",
       "      <td>2016Q1</td>\n",
       "      <td>Data centres</td>\n",
       "      <td>GWh</td>\n",
       "      <td>339</td>\n",
       "    </tr>\n",
       "  </tbody>\n",
       "</table>\n",
       "</div>"
      ],
      "text/plain": [
       "  Statistic Label Quarter Electricity Consumption UNIT  VALUE\n",
       "0  Gigawatt hours  2015Q1            Data centres  GWh    290\n",
       "1  Gigawatt hours  2015Q2            Data centres  GWh    302\n",
       "2  Gigawatt hours  2015Q3            Data centres  GWh    315\n",
       "3  Gigawatt hours  2015Q4            Data centres  GWh    328\n",
       "4  Gigawatt hours  2016Q1            Data centres  GWh    339"
      ]
     },
     "execution_count": 3,
     "metadata": {},
     "output_type": "execute_result"
    }
   ],
   "source": [
    "# Visualizing the first 5 rows\n",
    "Centers.head()"
   ]
  },
  {
   "cell_type": "code",
   "execution_count": 4,
   "id": "09d35f37",
   "metadata": {
    "scrolled": true
   },
   "outputs": [
    {
     "data": {
      "text/plain": [
       "(32, 5)"
      ]
     },
     "execution_count": 4,
     "metadata": {},
     "output_type": "execute_result"
    }
   ],
   "source": [
    "# Checking shape of the dataset\n",
    "Centers.shape"
   ]
  },
  {
   "cell_type": "code",
   "execution_count": 5,
   "id": "89d4675d",
   "metadata": {},
   "outputs": [
    {
     "data": {
      "text/html": [
       "<div>\n",
       "<style scoped>\n",
       "    .dataframe tbody tr th:only-of-type {\n",
       "        vertical-align: middle;\n",
       "    }\n",
       "\n",
       "    .dataframe tbody tr th {\n",
       "        vertical-align: top;\n",
       "    }\n",
       "\n",
       "    .dataframe thead th {\n",
       "        text-align: right;\n",
       "    }\n",
       "</style>\n",
       "<table border=\"1\" class=\"dataframe\">\n",
       "  <thead>\n",
       "    <tr style=\"text-align: right;\">\n",
       "      <th></th>\n",
       "      <th>Statistic Label</th>\n",
       "      <th>Quarter</th>\n",
       "      <th>Electricity Consumption</th>\n",
       "      <th>UNIT</th>\n",
       "    </tr>\n",
       "  </thead>\n",
       "  <tbody>\n",
       "    <tr>\n",
       "      <th>count</th>\n",
       "      <td>32</td>\n",
       "      <td>32</td>\n",
       "      <td>32</td>\n",
       "      <td>32</td>\n",
       "    </tr>\n",
       "    <tr>\n",
       "      <th>unique</th>\n",
       "      <td>1</td>\n",
       "      <td>32</td>\n",
       "      <td>1</td>\n",
       "      <td>1</td>\n",
       "    </tr>\n",
       "    <tr>\n",
       "      <th>top</th>\n",
       "      <td>Gigawatt hours</td>\n",
       "      <td>2015Q1</td>\n",
       "      <td>Data centres</td>\n",
       "      <td>GWh</td>\n",
       "    </tr>\n",
       "    <tr>\n",
       "      <th>freq</th>\n",
       "      <td>32</td>\n",
       "      <td>1</td>\n",
       "      <td>32</td>\n",
       "      <td>32</td>\n",
       "    </tr>\n",
       "  </tbody>\n",
       "</table>\n",
       "</div>"
      ],
      "text/plain": [
       "       Statistic Label Quarter Electricity Consumption UNIT\n",
       "count               32      32                      32   32\n",
       "unique               1      32                       1    1\n",
       "top     Gigawatt hours  2015Q1            Data centres  GWh\n",
       "freq                32       1                      32   32"
      ]
     },
     "execution_count": 5,
     "metadata": {},
     "output_type": "execute_result"
    }
   ],
   "source": [
    "#Categorical values and the number of times those values appear in the dataset. \n",
    "#This shows us the number of categories for each cathegorical value\n",
    "Centers.describe(include=object)\n",
    "#construction.describe(include=object)"
   ]
  },
  {
   "cell_type": "code",
   "execution_count": 6,
   "id": "d2825ce5",
   "metadata": {},
   "outputs": [],
   "source": [
    "# Column \"Statistic Label\" and \"Unit\" will be dropped as it only contains the word \"Data Centres\" and \n",
    "# Gigawatt hours in each row and it will not produce any relevant information for my analysis.\n",
    "\n",
    "#Dropping \"Statistic Label\" and \"unit\" features. \n",
    "Centers = Centers.drop(['Statistic Label', 'Electricity Consumption', 'UNIT'], axis=1)\n",
    "#Renaming the columns value and date.\n",
    "Centers = Centers.rename(columns={\"VALUE\": \"Data Centres Value\"})\n",
    "#exports = exports.rename(columns={\"Value\": \"exports\", \"Date\": \"year\"})"
   ]
  },
  {
   "cell_type": "code",
   "execution_count": 7,
   "id": "4c65b3d0",
   "metadata": {},
   "outputs": [
    {
     "data": {
      "text/html": [
       "<div>\n",
       "<style scoped>\n",
       "    .dataframe tbody tr th:only-of-type {\n",
       "        vertical-align: middle;\n",
       "    }\n",
       "\n",
       "    .dataframe tbody tr th {\n",
       "        vertical-align: top;\n",
       "    }\n",
       "\n",
       "    .dataframe thead th {\n",
       "        text-align: right;\n",
       "    }\n",
       "</style>\n",
       "<table border=\"1\" class=\"dataframe\">\n",
       "  <thead>\n",
       "    <tr style=\"text-align: right;\">\n",
       "      <th></th>\n",
       "      <th>Quarter</th>\n",
       "      <th>Data Centres Value</th>\n",
       "    </tr>\n",
       "  </thead>\n",
       "  <tbody>\n",
       "    <tr>\n",
       "      <th>0</th>\n",
       "      <td>2015Q1</td>\n",
       "      <td>290</td>\n",
       "    </tr>\n",
       "    <tr>\n",
       "      <th>1</th>\n",
       "      <td>2015Q2</td>\n",
       "      <td>302</td>\n",
       "    </tr>\n",
       "    <tr>\n",
       "      <th>2</th>\n",
       "      <td>2015Q3</td>\n",
       "      <td>315</td>\n",
       "    </tr>\n",
       "    <tr>\n",
       "      <th>3</th>\n",
       "      <td>2015Q4</td>\n",
       "      <td>328</td>\n",
       "    </tr>\n",
       "    <tr>\n",
       "      <th>4</th>\n",
       "      <td>2016Q1</td>\n",
       "      <td>339</td>\n",
       "    </tr>\n",
       "  </tbody>\n",
       "</table>\n",
       "</div>"
      ],
      "text/plain": [
       "  Quarter  Data Centres Value\n",
       "0  2015Q1                 290\n",
       "1  2015Q2                 302\n",
       "2  2015Q3                 315\n",
       "3  2015Q4                 328\n",
       "4  2016Q1                 339"
      ]
     },
     "execution_count": 7,
     "metadata": {},
     "output_type": "execute_result"
    }
   ],
   "source": [
    "# Checking the dataset after dropping those features\n",
    "Centers.head()"
   ]
  },
  {
   "cell_type": "code",
   "execution_count": 8,
   "id": "742845e5",
   "metadata": {
    "scrolled": true
   },
   "outputs": [
    {
     "name": "stdout",
     "output_type": "stream",
     "text": [
      "<class 'pandas.core.frame.DataFrame'>\n",
      "RangeIndex: 32 entries, 0 to 31\n",
      "Data columns (total 2 columns):\n",
      " #   Column              Non-Null Count  Dtype \n",
      "---  ------              --------------  ----- \n",
      " 0   Quarter             32 non-null     object\n",
      " 1   Data Centres Value  32 non-null     int64 \n",
      "dtypes: int64(1), object(1)\n",
      "memory usage: 644.0+ bytes\n"
     ]
    }
   ],
   "source": [
    "# Checking data types\n",
    "Centers.info()"
   ]
  },
  {
   "cell_type": "code",
   "execution_count": 9,
   "id": "994a8c7b",
   "metadata": {},
   "outputs": [
    {
     "data": {
      "text/plain": [
       "Quarter               0\n",
       "Data Centres Value    0\n",
       "dtype: int64"
      ]
     },
     "execution_count": 9,
     "metadata": {},
     "output_type": "execute_result"
    }
   ],
   "source": [
    "# Checking for null values\n",
    "Centers.isnull().sum()"
   ]
  },
  {
   "cell_type": "code",
   "execution_count": 10,
   "id": "7704b791",
   "metadata": {},
   "outputs": [],
   "source": [
    "# Loading second dataset for all other consumers but Data Centres to make comparisons\n",
    "Other_consumers = pd.read_csv('MEC02.20240317T130301.csv')"
   ]
  },
  {
   "cell_type": "code",
   "execution_count": 11,
   "id": "7bf6a2d3",
   "metadata": {
    "scrolled": false
   },
   "outputs": [
    {
     "data": {
      "text/html": [
       "<div>\n",
       "<style scoped>\n",
       "    .dataframe tbody tr th:only-of-type {\n",
       "        vertical-align: middle;\n",
       "    }\n",
       "\n",
       "    .dataframe tbody tr th {\n",
       "        vertical-align: top;\n",
       "    }\n",
       "\n",
       "    .dataframe thead th {\n",
       "        text-align: right;\n",
       "    }\n",
       "</style>\n",
       "<table border=\"1\" class=\"dataframe\">\n",
       "  <thead>\n",
       "    <tr style=\"text-align: right;\">\n",
       "      <th></th>\n",
       "      <th>Statistic Label</th>\n",
       "      <th>Quarter</th>\n",
       "      <th>Electricity Consumption</th>\n",
       "      <th>UNIT</th>\n",
       "      <th>VALUE</th>\n",
       "    </tr>\n",
       "  </thead>\n",
       "  <tbody>\n",
       "    <tr>\n",
       "      <th>0</th>\n",
       "      <td>Gigawatt hours</td>\n",
       "      <td>2015Q1</td>\n",
       "      <td>Customers other than data centres</td>\n",
       "      <td>GWh</td>\n",
       "      <td>6275</td>\n",
       "    </tr>\n",
       "    <tr>\n",
       "      <th>1</th>\n",
       "      <td>Gigawatt hours</td>\n",
       "      <td>2015Q2</td>\n",
       "      <td>Customers other than data centres</td>\n",
       "      <td>GWh</td>\n",
       "      <td>5784</td>\n",
       "    </tr>\n",
       "    <tr>\n",
       "      <th>2</th>\n",
       "      <td>Gigawatt hours</td>\n",
       "      <td>2015Q3</td>\n",
       "      <td>Customers other than data centres</td>\n",
       "      <td>GWh</td>\n",
       "      <td>5468</td>\n",
       "    </tr>\n",
       "    <tr>\n",
       "      <th>3</th>\n",
       "      <td>Gigawatt hours</td>\n",
       "      <td>2015Q4</td>\n",
       "      <td>Customers other than data centres</td>\n",
       "      <td>GWh</td>\n",
       "      <td>5837</td>\n",
       "    </tr>\n",
       "    <tr>\n",
       "      <th>4</th>\n",
       "      <td>Gigawatt hours</td>\n",
       "      <td>2016Q1</td>\n",
       "      <td>Customers other than data centres</td>\n",
       "      <td>GWh</td>\n",
       "      <td>6312</td>\n",
       "    </tr>\n",
       "  </tbody>\n",
       "</table>\n",
       "</div>"
      ],
      "text/plain": [
       "  Statistic Label Quarter            Electricity Consumption UNIT  VALUE\n",
       "0  Gigawatt hours  2015Q1  Customers other than data centres  GWh   6275\n",
       "1  Gigawatt hours  2015Q2  Customers other than data centres  GWh   5784\n",
       "2  Gigawatt hours  2015Q3  Customers other than data centres  GWh   5468\n",
       "3  Gigawatt hours  2015Q4  Customers other than data centres  GWh   5837\n",
       "4  Gigawatt hours  2016Q1  Customers other than data centres  GWh   6312"
      ]
     },
     "execution_count": 11,
     "metadata": {},
     "output_type": "execute_result"
    }
   ],
   "source": [
    "# Checking first 5 rows\n",
    "Other_consumers.head()"
   ]
  },
  {
   "cell_type": "code",
   "execution_count": 12,
   "id": "18140001",
   "metadata": {},
   "outputs": [],
   "source": [
    "# Column \"Statistic Label\" and \"Unit\" will be dropped as it only contains the word \"Customers other than data centres and \n",
    "# Gigawatt hours in each row and it will not produce any relevant information for my analysis.\n",
    "\n",
    "#Dropping \"Statistic Label\" and \"unit\" features. \n",
    "Other_consumers = Other_consumers.drop(['Statistic Label', 'Electricity Consumption', 'UNIT'], axis=1)\n",
    "#Renaming the columns value and date.\n",
    "Other_consumers = Other_consumers.rename(columns={'VALUE': 'Customers other than Data Centers Value'})"
   ]
  },
  {
   "cell_type": "code",
   "execution_count": 13,
   "id": "5d00dd0b",
   "metadata": {},
   "outputs": [
    {
     "data": {
      "text/html": [
       "<div>\n",
       "<style scoped>\n",
       "    .dataframe tbody tr th:only-of-type {\n",
       "        vertical-align: middle;\n",
       "    }\n",
       "\n",
       "    .dataframe tbody tr th {\n",
       "        vertical-align: top;\n",
       "    }\n",
       "\n",
       "    .dataframe thead th {\n",
       "        text-align: right;\n",
       "    }\n",
       "</style>\n",
       "<table border=\"1\" class=\"dataframe\">\n",
       "  <thead>\n",
       "    <tr style=\"text-align: right;\">\n",
       "      <th></th>\n",
       "      <th>Quarter</th>\n",
       "      <th>Customers other than Data Centers Value</th>\n",
       "    </tr>\n",
       "  </thead>\n",
       "  <tbody>\n",
       "    <tr>\n",
       "      <th>0</th>\n",
       "      <td>2015Q1</td>\n",
       "      <td>6275</td>\n",
       "    </tr>\n",
       "    <tr>\n",
       "      <th>1</th>\n",
       "      <td>2015Q2</td>\n",
       "      <td>5784</td>\n",
       "    </tr>\n",
       "    <tr>\n",
       "      <th>2</th>\n",
       "      <td>2015Q3</td>\n",
       "      <td>5468</td>\n",
       "    </tr>\n",
       "    <tr>\n",
       "      <th>3</th>\n",
       "      <td>2015Q4</td>\n",
       "      <td>5837</td>\n",
       "    </tr>\n",
       "    <tr>\n",
       "      <th>4</th>\n",
       "      <td>2016Q1</td>\n",
       "      <td>6312</td>\n",
       "    </tr>\n",
       "  </tbody>\n",
       "</table>\n",
       "</div>"
      ],
      "text/plain": [
       "  Quarter  Customers other than Data Centers Value\n",
       "0  2015Q1                                     6275\n",
       "1  2015Q2                                     5784\n",
       "2  2015Q3                                     5468\n",
       "3  2015Q4                                     5837\n",
       "4  2016Q1                                     6312"
      ]
     },
     "execution_count": 13,
     "metadata": {},
     "output_type": "execute_result"
    }
   ],
   "source": [
    "Other_consumers.head()"
   ]
  },
  {
   "cell_type": "code",
   "execution_count": 14,
   "id": "20191a23",
   "metadata": {},
   "outputs": [],
   "source": [
    "#Creating new dataframe \"const\" to merge the first two datasets: \"exports and imports\"\n",
    "#through outer merge.\n",
    "Data_Centers = pd.merge(Centers, Other_consumers, how=\"outer\")"
   ]
  },
  {
   "cell_type": "code",
   "execution_count": 15,
   "id": "b9d1f420",
   "metadata": {
    "scrolled": true
   },
   "outputs": [
    {
     "data": {
      "text/html": [
       "<div>\n",
       "<style scoped>\n",
       "    .dataframe tbody tr th:only-of-type {\n",
       "        vertical-align: middle;\n",
       "    }\n",
       "\n",
       "    .dataframe tbody tr th {\n",
       "        vertical-align: top;\n",
       "    }\n",
       "\n",
       "    .dataframe thead th {\n",
       "        text-align: right;\n",
       "    }\n",
       "</style>\n",
       "<table border=\"1\" class=\"dataframe\">\n",
       "  <thead>\n",
       "    <tr style=\"text-align: right;\">\n",
       "      <th></th>\n",
       "      <th>Quarter</th>\n",
       "      <th>Data Centres Value</th>\n",
       "      <th>Customers other than Data Centers Value</th>\n",
       "    </tr>\n",
       "  </thead>\n",
       "  <tbody>\n",
       "    <tr>\n",
       "      <th>0</th>\n",
       "      <td>2015Q1</td>\n",
       "      <td>290</td>\n",
       "      <td>6275</td>\n",
       "    </tr>\n",
       "    <tr>\n",
       "      <th>1</th>\n",
       "      <td>2015Q2</td>\n",
       "      <td>302</td>\n",
       "      <td>5784</td>\n",
       "    </tr>\n",
       "    <tr>\n",
       "      <th>2</th>\n",
       "      <td>2015Q3</td>\n",
       "      <td>315</td>\n",
       "      <td>5468</td>\n",
       "    </tr>\n",
       "    <tr>\n",
       "      <th>3</th>\n",
       "      <td>2015Q4</td>\n",
       "      <td>328</td>\n",
       "      <td>5837</td>\n",
       "    </tr>\n",
       "    <tr>\n",
       "      <th>4</th>\n",
       "      <td>2016Q1</td>\n",
       "      <td>339</td>\n",
       "      <td>6312</td>\n",
       "    </tr>\n",
       "  </tbody>\n",
       "</table>\n",
       "</div>"
      ],
      "text/plain": [
       "  Quarter  Data Centres Value  Customers other than Data Centers Value\n",
       "0  2015Q1                 290                                     6275\n",
       "1  2015Q2                 302                                     5784\n",
       "2  2015Q3                 315                                     5468\n",
       "3  2015Q4                 328                                     5837\n",
       "4  2016Q1                 339                                     6312"
      ]
     },
     "execution_count": 15,
     "metadata": {},
     "output_type": "execute_result"
    }
   ],
   "source": [
    "#Visualizing data set after merging\n",
    "Data_Centers.head()"
   ]
  },
  {
   "cell_type": "code",
   "execution_count": 16,
   "id": "7caea091",
   "metadata": {
    "scrolled": true
   },
   "outputs": [
    {
     "data": {
      "text/html": [
       "<div>\n",
       "<style scoped>\n",
       "    .dataframe tbody tr th:only-of-type {\n",
       "        vertical-align: middle;\n",
       "    }\n",
       "\n",
       "    .dataframe tbody tr th {\n",
       "        vertical-align: top;\n",
       "    }\n",
       "\n",
       "    .dataframe thead th {\n",
       "        text-align: right;\n",
       "    }\n",
       "</style>\n",
       "<table border=\"1\" class=\"dataframe\">\n",
       "  <thead>\n",
       "    <tr style=\"text-align: right;\">\n",
       "      <th></th>\n",
       "      <th>Data Centres Value</th>\n",
       "      <th>Customers other than Data Centers Value</th>\n",
       "    </tr>\n",
       "  </thead>\n",
       "  <tbody>\n",
       "    <tr>\n",
       "      <th>count</th>\n",
       "      <td>32.000000</td>\n",
       "      <td>32.000000</td>\n",
       "    </tr>\n",
       "    <tr>\n",
       "      <th>mean</th>\n",
       "      <td>668.406250</td>\n",
       "      <td>6018.375000</td>\n",
       "    </tr>\n",
       "    <tr>\n",
       "      <th>std</th>\n",
       "      <td>329.757962</td>\n",
       "      <td>353.598437</td>\n",
       "    </tr>\n",
       "    <tr>\n",
       "      <th>min</th>\n",
       "      <td>290.000000</td>\n",
       "      <td>5468.000000</td>\n",
       "    </tr>\n",
       "    <tr>\n",
       "      <th>25%</th>\n",
       "      <td>402.250000</td>\n",
       "      <td>5737.750000</td>\n",
       "    </tr>\n",
       "    <tr>\n",
       "      <th>50%</th>\n",
       "      <td>582.500000</td>\n",
       "      <td>5998.000000</td>\n",
       "    </tr>\n",
       "    <tr>\n",
       "      <th>75%</th>\n",
       "      <td>866.500000</td>\n",
       "      <td>6284.250000</td>\n",
       "    </tr>\n",
       "    <tr>\n",
       "      <th>max</th>\n",
       "      <td>1450.000000</td>\n",
       "      <td>6711.000000</td>\n",
       "    </tr>\n",
       "  </tbody>\n",
       "</table>\n",
       "</div>"
      ],
      "text/plain": [
       "       Data Centres Value  Customers other than Data Centers Value\n",
       "count           32.000000                                32.000000\n",
       "mean           668.406250                              6018.375000\n",
       "std            329.757962                               353.598437\n",
       "min            290.000000                              5468.000000\n",
       "25%            402.250000                              5737.750000\n",
       "50%            582.500000                              5998.000000\n",
       "75%            866.500000                              6284.250000\n",
       "max           1450.000000                              6711.000000"
      ]
     },
     "execution_count": 16,
     "metadata": {},
     "output_type": "execute_result"
    }
   ],
   "source": [
    "# Find some of the summary statistics of the database for the numerical features.\n",
    "Data_Centers.describe()"
   ]
  },
  {
   "cell_type": "code",
   "execution_count": 17,
   "id": "302590d6",
   "metadata": {
    "scrolled": true
   },
   "outputs": [
    {
     "data": {
      "text/html": [
       "<div>\n",
       "<style scoped>\n",
       "    .dataframe tbody tr th:only-of-type {\n",
       "        vertical-align: middle;\n",
       "    }\n",
       "\n",
       "    .dataframe tbody tr th {\n",
       "        vertical-align: top;\n",
       "    }\n",
       "\n",
       "    .dataframe thead th {\n",
       "        text-align: right;\n",
       "    }\n",
       "</style>\n",
       "<table border=\"1\" class=\"dataframe\">\n",
       "  <thead>\n",
       "    <tr style=\"text-align: right;\">\n",
       "      <th></th>\n",
       "      <th>Quarter</th>\n",
       "    </tr>\n",
       "  </thead>\n",
       "  <tbody>\n",
       "    <tr>\n",
       "      <th>count</th>\n",
       "      <td>32</td>\n",
       "    </tr>\n",
       "    <tr>\n",
       "      <th>unique</th>\n",
       "      <td>32</td>\n",
       "    </tr>\n",
       "    <tr>\n",
       "      <th>top</th>\n",
       "      <td>2015Q1</td>\n",
       "    </tr>\n",
       "    <tr>\n",
       "      <th>freq</th>\n",
       "      <td>1</td>\n",
       "    </tr>\n",
       "  </tbody>\n",
       "</table>\n",
       "</div>"
      ],
      "text/plain": [
       "       Quarter\n",
       "count       32\n",
       "unique      32\n",
       "top     2015Q1\n",
       "freq         1"
      ]
     },
     "execution_count": 17,
     "metadata": {},
     "output_type": "execute_result"
    }
   ],
   "source": [
    "#Categorical values and the number of times those values appear in the dataset. \n",
    "#This shows us the number of categories for each cathegorical value\n",
    "Data_Centers.describe(include=object)"
   ]
  },
  {
   "cell_type": "code",
   "execution_count": 18,
   "id": "54671f52",
   "metadata": {
    "scrolled": true
   },
   "outputs": [
    {
     "name": "stdout",
     "output_type": "stream",
     "text": [
      "<class 'pandas.core.frame.DataFrame'>\n",
      "Int64Index: 32 entries, 0 to 31\n",
      "Data columns (total 3 columns):\n",
      " #   Column                                   Non-Null Count  Dtype \n",
      "---  ------                                   --------------  ----- \n",
      " 0   Quarter                                  32 non-null     object\n",
      " 1   Data Centres Value                       32 non-null     int64 \n",
      " 2   Customers other than Data Centers Value  32 non-null     int64 \n",
      "dtypes: int64(2), object(1)\n",
      "memory usage: 1.0+ KB\n"
     ]
    }
   ],
   "source": [
    "# Checking data types\n",
    "Data_Centers.info()"
   ]
  },
  {
   "cell_type": "code",
   "execution_count": 19,
   "id": "07d92014",
   "metadata": {},
   "outputs": [
    {
     "data": {
      "text/plain": [
       "Quarter                                    0\n",
       "Data Centres Value                         0\n",
       "Customers other than Data Centers Value    0\n",
       "dtype: int64"
      ]
     },
     "execution_count": 19,
     "metadata": {},
     "output_type": "execute_result"
    }
   ],
   "source": [
    "# Checking for null values\n",
    "Data_Centers.isnull().sum()"
   ]
  },
  {
   "cell_type": "code",
   "execution_count": 20,
   "id": "c15144bb",
   "metadata": {},
   "outputs": [
    {
     "name": "stdout",
     "output_type": "stream",
     "text": [
      "number of duplicate rows:  (0, 3)\n"
     ]
    }
   ],
   "source": [
    "#checking the duplicates in the dataset\n",
    "duplicate_rows=Data_Centers[Data_Centers.duplicated()]\n",
    "print('number of duplicate rows: ', duplicate_rows.shape)"
   ]
  },
  {
   "cell_type": "code",
   "execution_count": 21,
   "id": "f8d9726f",
   "metadata": {},
   "outputs": [
    {
     "data": {
      "text/html": [
       "<div>\n",
       "<style scoped>\n",
       "    .dataframe tbody tr th:only-of-type {\n",
       "        vertical-align: middle;\n",
       "    }\n",
       "\n",
       "    .dataframe tbody tr th {\n",
       "        vertical-align: top;\n",
       "    }\n",
       "\n",
       "    .dataframe thead th {\n",
       "        text-align: right;\n",
       "    }\n",
       "</style>\n",
       "<table border=\"1\" class=\"dataframe\">\n",
       "  <thead>\n",
       "    <tr style=\"text-align: right;\">\n",
       "      <th></th>\n",
       "      <th>Quarter</th>\n",
       "      <th>Data Centres Value</th>\n",
       "      <th>Customers other than Data Centers Value</th>\n",
       "    </tr>\n",
       "  </thead>\n",
       "  <tbody>\n",
       "    <tr>\n",
       "      <th>30</th>\n",
       "      <td>2022Q3</td>\n",
       "      <td>1329</td>\n",
       "      <td>5642</td>\n",
       "    </tr>\n",
       "  </tbody>\n",
       "</table>\n",
       "</div>"
      ],
      "text/plain": [
       "   Quarter  Data Centres Value  Customers other than Data Centers Value\n",
       "30  2022Q3                1329                                     5642"
      ]
     },
     "execution_count": 21,
     "metadata": {},
     "output_type": "execute_result"
    }
   ],
   "source": [
    "# Sub-setting construction dataset to get my sample population for \"Ireland\"\n",
    "#test_df=construction[construction[\"country\"]==\"Ireland\"]\n",
    "#test_df.head(5)\n",
    "\n",
    "test_df=Data_Centers[Data_Centers[\"Quarter\"]==\"2022Q3\"]\n",
    "test_df.head(10)"
   ]
  },
  {
   "cell_type": "code",
   "execution_count": 22,
   "id": "2c0305fe",
   "metadata": {},
   "outputs": [],
   "source": [
    "#Sub-setting again the construcion dataset to get only imports for Ireland\n",
    "# Ireland imports is my sample population\n",
    "#Ireland_imports=test_df[[\"imports\"]]\n",
    "#Ireland_imports.head()"
   ]
  },
  {
   "cell_type": "code",
   "execution_count": 23,
   "id": "de8091aa",
   "metadata": {},
   "outputs": [],
   "source": [
    "#g = sns.catplot('Data Centres Value', kind=\"count\", data='Data_Centers', aspect=1);\n",
    "#g.set_xticklabels(rotation=90);\n",
    "#g.tick_params(axis='x', labelrotation=90)\n",
    "#g.set(title='Electricity Consumption');"
   ]
  },
  {
   "cell_type": "code",
   "execution_count": 24,
   "id": "23eb1714",
   "metadata": {},
   "outputs": [],
   "source": [
    "# Visualizing Electricity Consumption of Non Residential clients through a Boxplot:\n",
    "#g = sns.set(rc={\"figure.figsize\":(9, 7)})\n",
    "#g.tick_params(axis='x', labelrotation=90)\n",
    "#g = sns.boxplot(data=Data_Centers, x=\"Data Centres Value\", y=\"Customers other than Data Centers Value\")\n",
    "#plt.title('Box plot of Electricity Consumption of Non Residential Clients by year',\n",
    "          #fontsize=13);"
   ]
  },
  {
   "cell_type": "code",
   "execution_count": 25,
   "id": "9069d1bf",
   "metadata": {},
   "outputs": [],
   "source": [
    "#ax = sns.catplot(\"Data Centres Value\", aspect=1.5, data=Data_Centers, kind=\"count\", color=\"b\") \n",
    "#sns.catplot(\"Data Centres Value\", data='Data_Centers.Quarter', kind=\"count\")"
   ]
  },
  {
   "cell_type": "code",
   "execution_count": 26,
   "id": "efc1bcbe",
   "metadata": {},
   "outputs": [
    {
     "data": {
      "image/png": "[encoded data removed]",
      "text/plain": [
       "<Figure size 640x480 with 1 Axes>"
      ]
     },
     "metadata": {},
     "output_type": "display_data"
    }
   ],
   "source": [
    "ax = sns.barplot(x=\"Quarter\",y=\"Data Centres Value\",data=Data_Centers,estimator=np.mean) # confidende\n",
    "#ax.set_xticklabels(rotation=90);\n",
    "ax.tick_params(axis='x', labelrotation=90)\n",
    "ax.set(title='Electricity Consumption of Data Centres per Quarter');"
   ]
  },
  {
   "cell_type": "code",
   "execution_count": 27,
   "id": "3de1dc41",
   "metadata": {},
   "outputs": [
    {
     "data": {
      "image/png": "[encoded data removed]",
      "text/plain": [
       "<Figure size 640x480 with 1 Axes>"
      ]
     },
     "metadata": {},
     "output_type": "display_data"
    }
   ],
   "source": [
    "ax = sns.barplot(x=\"Quarter\",y=\"Customers other than Data Centers Value\",data=Data_Centers,estimator=np.mean) # confidende\n",
    "#ax.set_xticklabels(rotation=90);\n",
    "ax.tick_params(axis='x', labelrotation=90)\n",
    "ax.set(title='Electricity Consumption of Customers other than Data Centres per Quarter');"
   ]
  },
  {
   "cell_type": "code",
   "execution_count": 28,
   "id": "4dd17b62",
   "metadata": {},
   "outputs": [],
   "source": [
    "#g = sns.catplot('Residential Values', data=Meters, kind=\"count\", aspect=3);\n",
    "#g.set_xticklabels(rotation=90);\n",
    "#g.set(title='Electricity Consumption');\n",
    "\n",
    "#g = sns.catplot('Data Centres Values', data=Data_Centers, kind=\"count\", aspect=3);\n",
    "#g.set_xticklabels(rotation=90);\n",
    "#g.set(title='Electricity Consumption');\n",
    "\n",
    "#g = sns.catplot('Sport', data=olympics_top_sports_winners_2016, kind=\"count\", aspect=1.5);\n",
    "#g.set(title='Count of medals awarded in each of the top sports');\n",
    "\n",
    "#g = sns.catplot('Counties & Dublin Postal Districts', data=Meters, kind=\"count\", aspect=1.5);\n",
    "#g.set(title='Count of medals awarded in each of the top sports');"
   ]
  },
  {
   "cell_type": "markdown",
   "id": "23a3da04",
   "metadata": {},
   "source": [
    "## 1.2. Correlation of the variables"
   ]
  },
  {
   "cell_type": "code",
   "execution_count": 29,
   "id": "6cfa6ae9",
   "metadata": {
    "scrolled": true
   },
   "outputs": [
    {
     "name": "stdout",
     "output_type": "stream",
     "text": [
      "                                         Data Centres Value  \\\n",
      "Data Centres Value                                 1.000000   \n",
      "Customers other than Data Centers Value            0.062107   \n",
      "\n",
      "                                         Customers other than Data Centers Value  \n",
      "Data Centres Value                                                      0.062107  \n",
      "Customers other than Data Centers Value                                 1.000000  \n"
     ]
    }
   ],
   "source": [
    "# Checking the correlation between variables\n",
    "correlation = Data_Centers.corr()\n",
    "print(correlation)"
   ]
  },
  {
   "cell_type": "code",
   "execution_count": 30,
   "id": "85cfb7da",
   "metadata": {},
   "outputs": [
    {
     "data": {
      "image/png": "[encoded data removed]",
      "text/plain": [
       "<Figure size 1500x500 with 2 Axes>"
      ]
     },
     "metadata": {},
     "output_type": "display_data"
    }
   ],
   "source": [
    "# Finding the relations between the variables through a heat map\n",
    "plt.figure(figsize=(15,5)) \n",
    "c= Data_Centers.corr() \n",
    "sns.heatmap(c,cmap=\"BrBG\",annot=True) \n",
    "plt.title(\"Correlation between variables for Data Centers\");\n",
    "#there is a weak correlation of 0.062 Data Centres and Other customers than Data Centres"
   ]
  },
  {
   "cell_type": "code",
   "execution_count": 31,
   "id": "6952ded3",
   "metadata": {
    "scrolled": false
   },
   "outputs": [
    {
     "data": {
      "image/png": "[encoded data removed]",
      "text/plain": [
       "<Figure size 800x400 with 1 Axes>"
      ]
     },
     "metadata": {},
     "output_type": "display_data"
    }
   ],
   "source": [
    "#Ploting a scatter plot to stablish if there is any correlation between two variables\n",
    "\n",
    "fig, ax = plt.subplots(figsize=(8,4)) \n",
    "ax.scatter(Data_Centers['Data Centres Value'], Data_Centers['Customers other than Data Centers Value']) \n",
    "ax.set_xlabel('Data Centres Value') \n",
    "ax.set_ylabel('Customers other than Data Centers Value ') \n",
    "plt.title(\"Correlation between Residential and Non Residential Electricity Consumption Leinster Area\");\n",
    "plt.show() "
   ]
  },
  {
   "cell_type": "code",
   "execution_count": 32,
   "id": "c11fa29c",
   "metadata": {
    "scrolled": false
   },
   "outputs": [
    {
     "data": {
      "image/png": "[encoded data removed]",
      "text/plain": [
       "<Figure size 500x500 with 1 Axes>"
      ]
     },
     "metadata": {},
     "output_type": "display_data"
    }
   ],
   "source": [
    "# Visualizing the Data Centres variable\n",
    "# It can be seen that data is positive skewed in this feature.\n",
    "sns.set(rc={\"figure.figsize\":(4, 1)})\n",
    "sns.displot(data=Data_Centers, x=\"Data Centres Value\", kde=True);\n",
    "plt.title(\"Data Centres data shape\");"
   ]
  },
  {
   "cell_type": "markdown",
   "id": "72b11668",
   "metadata": {},
   "source": [
    "## 1.3. Outliers Detection."
   ]
  },
  {
   "cell_type": "code",
   "execution_count": 33,
   "id": "003d59fa",
   "metadata": {},
   "outputs": [
    {
     "data": {
      "image/png": "[encoded data removed]",
      "text/plain": [
       "<Figure size 400x300 with 1 Axes>"
      ]
     },
     "metadata": {},
     "output_type": "display_data"
    }
   ],
   "source": [
    "# Detecting Outliers\n",
    "# As it can be seen below, there are ouliers in three of the numeric variables of my dataset.\n",
    "sns.set(rc={\"figure.figsize\":(4, 3)})\n",
    "sns.boxplot(x=Data_Centers['Data Centres Value']); \n",
    "plt.title(\"Data Centres value outliers\");"
   ]
  },
  {
   "cell_type": "code",
   "execution_count": 34,
   "id": "65eecad0",
   "metadata": {},
   "outputs": [
    {
     "data": {
      "image/png": "[encoded data removed]",
      "text/plain": [
       "<Figure size 400x300 with 1 Axes>"
      ]
     },
     "metadata": {},
     "output_type": "display_data"
    }
   ],
   "source": [
    "# Detecting Outliers on Residential variable\n",
    "# As it can be seen below, there are ouliers in three of the numeric variables of my dataset.\n",
    "sns.set(rc={\"figure.figsize\":(4, 3)})\n",
    "sns.boxplot(x=Data_Centers['Customers other than Data Centers Value']); \n",
    "plt.title(\"Customers other than Data Centers Value outliers\");"
   ]
  },
  {
   "cell_type": "markdown",
   "id": "2031f045",
   "metadata": {},
   "source": [
    "## 1.4. Interactive Visualization using Plotly"
   ]
  },
  {
   "cell_type": "code",
   "execution_count": 35,
   "id": "ced30ac9",
   "metadata": {},
   "outputs": [],
   "source": [
    "#Importing the libraries\n",
    "import plotly.express as plt\n",
    "import plotly.graph_objects as go\n",
    "import plotly.express as px"
   ]
  },
  {
   "cell_type": "code",
   "execution_count": 36,
   "id": "ee9dade6",
   "metadata": {},
   "outputs": [],
   "source": [
    "#Determining a mix\n",
    "xmin, xmax = min('Data_Centers.Data Centres Value'), max('Data_Centers.Data Centres Value')\n",
    "ymin, ymax = min('Data_Centers.Customers other than Data Centers Value'), max('Data_Centers.Customers other than Data Centers Value')"
   ]
  },
  {
   "cell_type": "code",
   "execution_count": 37,
   "id": "880fd159",
   "metadata": {
    "scrolled": false
   },
   "outputs": [],
   "source": [
    "#Visualizing the interactive dashboard\n",
    "#fig = px.scatter(Data_Centers, x=\"Data Centres Value\", y=\"Customers other than Data Centers Value\", animation_frame=\"Quarter\",\n",
    "#animation_group=\"Data Centres Value\", color=\"Quarter\", hover_name=\"Quarter\",\n",
    "#facet_col=\"Quarter\", width=1200, height=400, log_x=True, size_max=45,\n",
    "#range_x=[xmin,xmax], range_y=[ymin,ymax]) \n",
    "#fig.show()"
   ]
  },
  {
   "cell_type": "code",
   "execution_count": null,
   "id": "de42a5c4",
   "metadata": {},
   "outputs": [],
   "source": []
  }
 ],
 "metadata": {
  "kernelspec": {
   "display_name": "Python 3 (ipykernel)",
   "language": "python",
   "name": "python3"
  },
  "language_info": {
   "codemirror_mode": {
    "name": "ipython",
    "version": 3
   },
   "file_extension": ".py",
   "mimetype": "text/x-python",
   "name": "python",
   "nbconvert_exporter": "python",
   "pygments_lexer": "ipython3",
   "version": "3.11.4"
  }
 },
 "nbformat": 4,
 "nbformat_minor": 5
}
